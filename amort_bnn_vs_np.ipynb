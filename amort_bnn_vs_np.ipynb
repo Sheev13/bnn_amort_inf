{
 "cells": [
  {
   "cell_type": "code",
   "execution_count": null,
   "metadata": {},
   "outputs": [],
   "source": [
    "%load_ext autoreload\n",
    "%autoreload 2"
   ]
  },
  {
   "cell_type": "code",
   "execution_count": null,
   "metadata": {},
   "outputs": [],
   "source": [
    "import torch\n",
    "import neuralprocesses.torch as nps\n",
    "import matplotlib.pyplot as plt\n",
    "import amort_bnn\n",
    "import gp_datasets\n",
    "import tqdm.auto as tqdm\n",
    "import lab as B\n",
    "\n",
    "torch.set_default_dtype(torch.float64)"
   ]
  },
  {
   "cell_type": "markdown",
   "metadata": {},
   "source": [
    "### Generate meta dataset"
   ]
  },
  {
   "cell_type": "code",
   "execution_count": null,
   "metadata": {},
   "outputs": [],
   "source": [
    "gpdg = gp_datasets.GPDataGenerator()\n",
    "num_tasks = 100\n",
    "tasks = [gpdg.generate_task(range=[-3.0, 3.0]) for i in range(num_tasks)]"
   ]
  },
  {
   "cell_type": "markdown",
   "metadata": {},
   "source": [
    "### Construct and train the amortised BNN"
   ]
  },
  {
   "cell_type": "code",
   "execution_count": null,
   "metadata": {},
   "outputs": [],
   "source": [
    "amort_bnn_model = amort_bnn.AmortNetwork(\n",
    "    1,\n",
    "    [50, 50],\n",
    "    1,\n",
    ")\n",
    "\n",
    "opt = torch.optim.Adam(amort_bnn_model.parameters(), lr=1e-2)\n",
    "\n",
    "loss_evo = []\n",
    "ll_evo = []\n",
    "kl_evo = []\n",
    "\n",
    "epoch_iter = tqdm.tqdm(range(1000), \"Epoch\")\n",
    "for i, epoch in enumerate(epoch_iter):\n",
    "    \n",
    "    task = tasks[i%num_tasks]\n",
    "    \n",
    "    opt.zero_grad()\n",
    "\n",
    "    loss, ll, kl, noise = amort_bnn_model.elbo_loss(\n",
    "        task['x_context'].unsqueeze(1), task['y_context'].unsqueeze(1), num_samples=1\n",
    "    )\n",
    "    loss_evo.append(loss.item())\n",
    "    ll_evo.append(ll.item())\n",
    "    kl_evo.append(kl.item())\n",
    "\n",
    "    loss.backward()\n",
    "    opt.step()\n",
    "    \n",
    "    epoch_iter.set_postfix({\"loss\": loss, \"ll\": ll, \"kl\": kl})\n",
    "    \n",
    "fig, axs = plt.subplots(3, 1)\n",
    "fig.set_size_inches(6, 8)\n",
    "fig.subplots_adjust(hspace=0.5)\n",
    "\n",
    "axs[0].plot(loss_evo)\n",
    "axs[0].set_ylabel(\"ELBO loss\")\n",
    "axs[0].set_xlabel(\"epoch\")\n",
    "axs[0].set_title(\"Loss Evolution\")\n",
    "\n",
    "axs[1].plot(ll_evo)\n",
    "axs[1].set_ylabel(\"expected log likelihood\")\n",
    "axs[1].set_xlabel(\"epoch\")\n",
    "axs[1].set_title(\"Expected Log Likelihood Evolution\")\n",
    "\n",
    "axs[2].plot(kl_evo)\n",
    "axs[2].set_ylabel(\"kl\")\n",
    "axs[2].set_xlabel(\"epoch\")\n",
    "axs[2].set_title(\"KL Evolution\")\n",
    "\n",
    "plt.show()"
   ]
  },
  {
   "cell_type": "markdown",
   "metadata": {},
   "source": [
    "### Construct and train (Gaussian) neural process"
   ]
  },
  {
   "cell_type": "code",
   "execution_count": null,
   "metadata": {},
   "outputs": [],
   "source": [
    "np = nps.construct_gnp(\n",
    "    num_enc_layers=2,\n",
    "    enc_same=True,\n",
    "    num_dec_layers=3,\n",
    "    width=50\n",
    "    )\n",
    "\n",
    "# fix np.parameters() \n",
    "opt = torch.optim.Adam(np.encoder.parameters(), lr=1e-2)\n",
    "\n",
    "loss_evo = []\n",
    "\n",
    "epoch_iter = tqdm.tqdm(range(1000), \"Epoch\")\n",
    "for i, epoch in enumerate(epoch_iter):\n",
    "    \n",
    "    task = tasks[i%num_tasks]\n",
    "    \n",
    "    opt.zero_grad()\n",
    "\n",
    "    # figure out what the loss is and how to use it\n",
    "    loss = np.elbo(\n",
    "        task['x_context'].unsqueeze(1),\n",
    "        task['y_context'].unsqueeze(1), num_samples=1\n",
    "    )\n",
    "    loss_evo.append(loss.item())\n",
    "\n",
    "    loss.backward()\n",
    "    opt.step()\n",
    "    \n",
    "    epoch_iter.set_postfix({\"loss\": loss, \"ll\": ll, \"kl\": kl})\n",
    "\n",
    "plt.plot(loss_evo)\n",
    "plt.ylabel(\"ELBO loss\")\n",
    "plt.xlabel(\"epoch\")\n",
    "plt.title(\"Loss Evolution\")\n",
    "\n",
    "plt.show()"
   ]
  }
 ],
 "metadata": {
  "kernelspec": {
   "display_name": "Python 3.8.10 ('amort-inf-bnn-env')",
   "language": "python",
   "name": "python3"
  },
  "language_info": {
   "name": "python",
   "version": "3.8.10"
  },
  "orig_nbformat": 4,
  "vscode": {
   "interpreter": {
    "hash": "ab87876de487af160f20235e2a1af3a273459c9a624d26036771363d3e1235fa"
   }
  }
 },
 "nbformat": 4,
 "nbformat_minor": 2
}
