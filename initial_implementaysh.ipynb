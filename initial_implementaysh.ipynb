{
 "cells": [
  {
   "cell_type": "code",
   "execution_count": null,
   "metadata": {},
   "outputs": [],
   "source": [
    "import torch\n",
    "from torch import nn\n",
    "import matplotlib.pyplot as plt"
   ]
  },
  {
   "cell_type": "markdown",
   "metadata": {},
   "source": [
    "### Dataset stuff here:"
   ]
  },
  {
   "cell_type": "code",
   "execution_count": null,
   "metadata": {},
   "outputs": [],
   "source": []
  },
  {
   "cell_type": "markdown",
   "metadata": {},
   "source": [
    "### Build Model"
   ]
  },
  {
   "cell_type": "code",
   "execution_count": null,
   "metadata": {},
   "outputs": [],
   "source": [
    "class GILayer(nn.Module):\n",
    "    \"\"\"Represents a single layer of the network\"\"\"\n",
    "\n",
    "def __init__(self, input_dim, output_dim, num_induce):\n",
    "    super(GILayer, self).__init__()\n",
    "    self.input_dim = input_dim\n",
    "    self.output_dim = output_dim\n",
    "    self.num_induce = num_induce\n",
    "\n",
    "    # priors\n",
    "    self.w_mu_p = torch.zeros(input_dim, output_dim)\n",
    "    self.w_logvar_p = torch.zeros(input_dim, output_dim)\n",
    "    self.b_mu_p = torch.zeros(input_dim, output_dim)\n",
    "    self.b_logvar_p = torch.zeros(input_dim, output_dim)\n",
    "\n",
    "    # posteriors\n",
    "\n",
    "    # pseudos\n",
    "    self.pseud_mu = nn.Parameter(torch.zeros(num_induce, output_dim))\n",
    "    self.pseud_logprec = nn.Parameter(torch.zeros(num_induce))\n",
    "\n",
    "\n",
    "\n",
    "\n",
    "\n",
    "class GINetwork(nn.Module):\n",
    "    \"\"\"Represents the full network\"\"\""
   ]
  }
 ],
 "metadata": {
  "kernelspec": {
   "display_name": "Python 3.8.10 ('amort-inf-bnn-env')",
   "language": "python",
   "name": "python3"
  },
  "language_info": {
   "name": "python",
   "version": "3.8.10"
  },
  "orig_nbformat": 4,
  "vscode": {
   "interpreter": {
    "hash": "ab87876de487af160f20235e2a1af3a273459c9a624d26036771363d3e1235fa"
   }
  }
 },
 "nbformat": 4,
 "nbformat_minor": 2
}
