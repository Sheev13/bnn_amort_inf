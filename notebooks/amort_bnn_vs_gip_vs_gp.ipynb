{
 "cells": [
  {
   "cell_type": "code",
   "execution_count": null,
   "metadata": {},
   "outputs": [],
   "source": [
    "%load_ext autoreload\n",
    "%autoreload 2"
   ]
  },
  {
   "cell_type": "code",
   "execution_count": null,
   "metadata": {},
   "outputs": [],
   "source": [
    "import torch\n",
    "import matplotlib.pyplot as plt\n",
    "import gpytorch\n",
    "import tqdm.auto as tqdm\n",
    "import sys\n",
    "\n",
    "torch.set_default_dtype(torch.float64)\n",
    "\n",
    "sys.path.append(\"../\")\n",
    "from bnn_amort_inf.models.bnn import gibnn\n",
    "from bnn_amort_inf.models import gp\n",
    "from bnn_amort_inf import utils"
   ]
  },
  {
   "cell_type": "markdown",
   "metadata": {},
   "source": [
    "### Generate meta dataset for amortised bnn"
   ]
  },
  {
   "cell_type": "code",
   "execution_count": null,
   "metadata": {},
   "outputs": [],
   "source": [
    "num_datasets = 1000\n",
    "train_datasets = []\n",
    "\n",
    "for _ in range(num_datasets):\n",
    "    train_datasets.append(utils.gp_datasets.gp_dataset_generator(noise=0.06))\n",
    "\n",
    "meta_dataset = utils.dataset_utils.MetaDataset(train_datasets)"
   ]
  },
  {
   "cell_type": "code",
   "execution_count": null,
   "metadata": {},
   "outputs": [],
   "source": [
    "amort_model = gibnn.AmortisedGIBNN(\n",
    "    x_dim=1,\n",
    "    y_dim=1,\n",
    "    hidden_dims=[20, 20],\n",
    "    in_hidden_dims=[20, 20],\n",
    "    noise=1e-1,\n",
    "    train_noise=True,\n",
    ")"
   ]
  },
  {
   "cell_type": "code",
   "execution_count": null,
   "metadata": {},
   "outputs": [],
   "source": [
    "agibnn_tracker = utils.training_utils.train_metamodel(\n",
    "    amort_model,\n",
    "    meta_dataset,\n",
    ")"
   ]
  },
  {
   "cell_type": "code",
   "execution_count": null,
   "metadata": {},
   "outputs": [],
   "source": [
    "fig, axes = plt.subplots(\n",
    "    len(agibnn_tracker.keys()),\n",
    "    1,\n",
    "    figsize=(8, len(agibnn_tracker.keys()) * 4),\n",
    "    dpi=100,\n",
    "    sharex=True,\n",
    ")\n",
    "\n",
    "for ax, (key, vals) in zip(axes, agibnn_tracker.items()):\n",
    "    ax.plot(vals)\n",
    "    ax.set_ylabel(key)\n",
    "    ax.grid()\n",
    "\n",
    "plt.show()"
   ]
  },
  {
   "cell_type": "markdown",
   "metadata": {},
   "source": [
    "### Generate test dataset"
   ]
  },
  {
   "cell_type": "code",
   "execution_count": null,
   "metadata": {},
   "outputs": [],
   "source": [
    "xs = torch.linspace(-2.5, 2.5, 100).unsqueeze(1)\n",
    "x, y = utils.gp_datasets.gp_dataset_generator(\n",
    "    x_min=-2.0, x_max=2.0, min_n=20, max_n=30, noise=0.06\n",
    ")\n",
    "prediction_samps = amort_model(x, y, x_test=xs, num_samples=100)[-1].squeeze().T\n",
    "\n",
    "dataset = torch.utils.data.TensorDataset(x, y)"
   ]
  },
  {
   "cell_type": "code",
   "execution_count": null,
   "metadata": {},
   "outputs": [],
   "source": [
    "dataset_size = len(x)\n",
    "num_induce = dataset_size // 2\n",
    "rand_perm = torch.randperm(dataset_size)[:num_induce]\n",
    "inducing_points = x[rand_perm]\n",
    "\n",
    "gip_model = gibnn.GIBNN(\n",
    "    1,\n",
    "    1,\n",
    "    [20, 20],\n",
    "    num_induce,\n",
    "    inducing_points,\n",
    "    train_noise=True,\n",
    ")\n",
    "\n",
    "gibnn_tracker = utils.training_utils.train_model(\n",
    "    gip_model,\n",
    "    dataset,\n",
    "    batch_size=128,\n",
    "    lr=1e-2,\n",
    ")\n",
    "\n",
    "fig, axes = plt.subplots(\n",
    "    len(gibnn_tracker.keys()),\n",
    "    1,\n",
    "    figsize=(8, len(gibnn_tracker.keys()) * 4),\n",
    "    dpi=100,\n",
    "    sharex=True,\n",
    ")\n",
    "\n",
    "for ax, (key, vals) in zip(axes, gibnn_tracker.items()):\n",
    "    ax.plot(vals)\n",
    "    ax.set_ylabel(key)\n",
    "    ax.grid()\n",
    "\n",
    "plt.show()"
   ]
  },
  {
   "cell_type": "code",
   "execution_count": null,
   "metadata": {},
   "outputs": [],
   "source": [
    "gip_prediction_samps = gip_model(xs, num_samples=100)[0].squeeze(-1).T"
   ]
  },
  {
   "cell_type": "code",
   "execution_count": null,
   "metadata": {},
   "outputs": [],
   "source": [
    "likelihood = gpytorch.likelihoods.GaussianLikelihood()\n",
    "gp_model = gp.GPModel(x.squeeze(), y.squeeze(), likelihood)\n",
    "\n",
    "gp_model.train()\n",
    "likelihood.train()\n",
    "opt = torch.optim.Adam(gp_model.parameters(), lr=1e-1)\n",
    "mll = gpytorch.mlls.ExactMarginalLogLikelihood(likelihood, gp_model)\n",
    "mll_evo = []\n",
    "\n",
    "epoch_iter = tqdm.tqdm(range(200), \"Epoch\")\n",
    "for epoch in epoch_iter:\n",
    "    opt.zero_grad()\n",
    "    output = gp_model(x.squeeze())\n",
    "    loss = -mll(output, y.squeeze()).sum()\n",
    "    mll_evo.append(loss.item())\n",
    "    loss.backward()\n",
    "    opt.step()\n",
    "    epoch_iter.set_postfix({\"loss\": loss})\n",
    "\n",
    "plt.plot(mll_evo)\n",
    "plt.ylabel(\"loss\")\n",
    "plt.xlabel(\"epoch\")\n",
    "plt.title(\"Marginal Log Likelihood\")\n",
    "plt.show()"
   ]
  },
  {
   "cell_type": "code",
   "execution_count": null,
   "metadata": {},
   "outputs": [],
   "source": [
    "gp_model.eval()\n",
    "gp_prediction_samps = (\n",
    "    gp_model(xs)\n",
    "    .sample(\n",
    "        torch.Size(\n",
    "            [\n",
    "                100,\n",
    "            ]\n",
    "        )\n",
    "    )\n",
    "    .T\n",
    ")"
   ]
  },
  {
   "cell_type": "code",
   "execution_count": null,
   "metadata": {},
   "outputs": [],
   "source": [
    "fig, axs = plt.subplots(1, 3)\n",
    "fig.set_size_inches(18, 5)\n",
    "\n",
    "axs[0].plot(\n",
    "    xs,\n",
    "    prediction_samps.detach().numpy()[:, :-1],\n",
    "    color=\"blue\",\n",
    "    linewidth=0.5,\n",
    "    alpha=0.15,\n",
    ")\n",
    "axs[0].plot(\n",
    "    xs,\n",
    "    prediction_samps.detach().numpy()[:, -1],\n",
    "    color=\"blue\",\n",
    "    linewidth=0.5,\n",
    "    alpha=0.15,\n",
    "    label=\"Predictive Sample\",\n",
    ")\n",
    "axs[0].set_title(\"Amortised Model Prediction Samples\")\n",
    "axs[0].set_xlabel(\"Input Variable\")\n",
    "axs[0].set_ylabel(\"Output Variable\")\n",
    "axs[0].scatter(\n",
    "    x,\n",
    "    y,\n",
    "    marker=\"x\",\n",
    "    label=\"Training Data\",\n",
    "    color=\"red\",\n",
    "    linewidth=0.5,\n",
    ")\n",
    "\n",
    "axs[0].legend()\n",
    "axs[0].set_ylim(-4.0, 4.0)\n",
    "axs[0].set_xlim(-2.5, 2.5)\n",
    "\n",
    "axs[1].plot(\n",
    "    xs,\n",
    "    gip_prediction_samps.detach().numpy()[:, :-1],\n",
    "    color=\"blue\",\n",
    "    linewidth=0.5,\n",
    "    alpha=0.15,\n",
    ")\n",
    "axs[1].plot(\n",
    "    xs,\n",
    "    gip_prediction_samps.detach().numpy()[:, -1],\n",
    "    color=\"blue\",\n",
    "    linewidth=0.5,\n",
    "    alpha=0.15,\n",
    "    label=\"Predictive Sample\",\n",
    ")\n",
    "axs[1].set_title(\"Global Inducing Point Model Prediction Samples\")\n",
    "axs[1].set_xlabel(\"Input Variable\")\n",
    "axs[1].set_ylabel(\"Output Variable\")\n",
    "axs[1].scatter(\n",
    "    x,\n",
    "    y,\n",
    "    marker=\"x\",\n",
    "    label=\"Training Data\",\n",
    "    color=\"red\",\n",
    "    linewidth=0.5,\n",
    ")\n",
    "\n",
    "axs[1].legend()\n",
    "axs[1].set_ylim(-4.0, 4.0)\n",
    "axs[1].set_xlim(-2.5, 2.5)\n",
    "\n",
    "axs[2].plot(\n",
    "    xs,\n",
    "    gp_prediction_samps.detach().numpy()[:, :-1],\n",
    "    color=\"blue\",\n",
    "    linewidth=0.5,\n",
    "    alpha=0.15,\n",
    ")\n",
    "axs[2].plot(\n",
    "    xs,\n",
    "    gp_prediction_samps.detach().numpy()[:, -1],\n",
    "    color=\"blue\",\n",
    "    linewidth=0.5,\n",
    "    alpha=0.15,\n",
    "    label=\"Predictive Sample\",\n",
    ")\n",
    "# axs[2].plot(xs, gp_prediction_samps.detach().numpy())\n",
    "axs[2].set_title(\"Gaussian Process Model Prediction Samples\")\n",
    "axs[2].set_xlabel(\"Input Variable\")\n",
    "axs[2].set_ylabel(\"Output Variable\")\n",
    "axs[2].scatter(\n",
    "    x,\n",
    "    y,\n",
    "    marker=\"x\",\n",
    "    label=\"Training Data\",\n",
    "    color=\"red\",\n",
    "    linewidth=0.5,\n",
    ")\n",
    "\n",
    "axs[2].legend()\n",
    "axs[2].set_ylim(-4.0, 4.0)\n",
    "axs[2].set_xlim(-2.5, 2.5)\n",
    "\n",
    "plt.show()"
   ]
  }
 ],
 "metadata": {
  "kernelspec": {
   "display_name": "Python 3.9.13 ('bnn-amort-inf-env')",
   "language": "python",
   "name": "python3"
  },
  "language_info": {
   "codemirror_mode": {
    "name": "ipython",
    "version": 3
   },
   "file_extension": ".py",
   "mimetype": "text/x-python",
   "name": "python",
   "nbconvert_exporter": "python",
   "pygments_lexer": "ipython3",
   "version": "3.9.13"
  },
  "vscode": {
   "interpreter": {
    "hash": "35fb1e0ce207c8143d1ac09f84e572577d5a384bc00c7057b27c48465068398e"
   }
  }
 },
 "nbformat": 4,
 "nbformat_minor": 2
}
