{
 "cells": [
  {
   "cell_type": "markdown",
   "metadata": {},
   "source": [
    "# Experiment 1\n",
    "### In this experiment we compare the predictive capabilities of three meta models across four types of dataset. \n",
    "We compare the new amortised global inducing point BNN with a vanilla neural process and an amortised MFVI BNN as two baseline models. The test datasets are:\n",
    "- Noisy sample from squared exponential covarince GP prior\n",
    "- Noisy sample from Laplacian covariance GP prior\n",
    "- Noisy sample from periodic covariance GP prior\n",
    "- Noisy cubic dataset with central gap\n",
    "\n",
    "For each dataset, a non meta model representing the 'ground truth' is used to compare predictions against. For the GP-generated datasets, the posterior from a hyperparameter-optimised GP with the corresponding covariance function is used, and for the cubic dataset, the vanilla global inducing point BNN is used.\n"
   ]
  },
  {
   "cell_type": "code",
   "execution_count": null,
   "metadata": {},
   "outputs": [],
   "source": [
    "%load_ext autoreload\n",
    "%autoreload 2"
   ]
  },
  {
   "cell_type": "code",
   "execution_count": null,
   "metadata": {},
   "outputs": [],
   "source": [
    "import torch\n",
    "import matplotlib.pyplot as plt\n",
    "import gpytorch\n",
    "import tqdm.auto as tqdm\n",
    "import sys\n",
    "\n",
    "torch.set_default_dtype(torch.float64)\n",
    "\n",
    "sys.path.append(\"../\")\n",
    "from bnn_amort_inf.models.bnn import gibnn\n",
    "from bnn_amort_inf.models import gp, np\n",
    "from bnn_amort_inf import utils"
   ]
  },
  {
   "cell_type": "markdown",
   "metadata": {},
   "source": [
    "### Generate metadatasets"
   ]
  },
  {
   "cell_type": "code",
   "execution_count": null,
   "metadata": {},
   "outputs": [],
   "source": [
    "num_datasets = 1000\n",
    "meta_datasets = {}\n",
    "kernels = [\"se\", \"per\", \"lap\"]\n",
    "\n",
    "for kernel in kernels:\n",
    "    meta_datasets[kernel] = utils.dataset_utils.MetaDataset(\n",
    "        [\n",
    "            utils.gp_datasets.gp_dataset_generator(min_n=30, max_n=100, kernel=kernel)\n",
    "            for _ in range(num_datasets)\n",
    "        ]\n",
    "    )\n",
    "meta_datasets[\"mixed\"] = [\n",
    "    utils.gp_datasets.gp_dataset_generator(min_n=30, max_n=100, kernel=kernels[i % 3])\n",
    "    for i in range(num_datasets)\n",
    "]"
   ]
  },
  {
   "cell_type": "markdown",
   "metadata": {},
   "source": [
    "### Generate test datasets"
   ]
  },
  {
   "cell_type": "code",
   "execution_count": null,
   "metadata": {},
   "outputs": [],
   "source": [
    "test_datasets = {}\n",
    "\n",
    "seed = 42\n",
    "\n",
    "# TODO: implement seed parameter for gp dataset creation\n",
    "for kernel in kernels:\n",
    "    test_datasets[kernel] = torch.utils.data.TensorDataset(\n",
    "        utils.gp_datasets.gp_dataset_generator(min_n=15, max_n=20, kernel=kernel)\n",
    "    )\n",
    "\n",
    "# TODO: move cubic dataset creation to dataset_utils"
   ]
  }
 ],
 "metadata": {
  "kernelspec": {
   "display_name": "Python 3.9.13 ('bnn-amort-inf-env')",
   "language": "python",
   "name": "python3"
  },
  "language_info": {
   "codemirror_mode": {
    "name": "ipython",
    "version": 3
   },
   "file_extension": ".py",
   "mimetype": "text/x-python",
   "name": "python",
   "nbconvert_exporter": "python",
   "pygments_lexer": "ipython3",
   "version": "3.9.13"
  },
  "vscode": {
   "interpreter": {
    "hash": "35fb1e0ce207c8143d1ac09f84e572577d5a384bc00c7057b27c48465068398e"
   }
  }
 },
 "nbformat": 4,
 "nbformat_minor": 2
}
