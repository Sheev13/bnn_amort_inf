{
 "cells": [
  {
   "cell_type": "code",
   "execution_count": null,
   "metadata": {},
   "outputs": [],
   "source": [
    "%load_ext autoreload\n",
    "%autoreload 2"
   ]
  },
  {
   "cell_type": "code",
   "execution_count": null,
   "metadata": {},
   "outputs": [],
   "source": [
    "import torch\n",
    "import matplotlib.pyplot as plt\n",
    "import amort_bnn\n",
    "import tqdm.auto as tqdm\n",
    "\n",
    "torch.set_default_dtype(torch.float64)"
   ]
  },
  {
   "cell_type": "markdown",
   "metadata": {},
   "source": [
    "# Dataset here"
   ]
  },
  {
   "cell_type": "code",
   "execution_count": null,
   "metadata": {},
   "outputs": [],
   "source": [
    "noise_std = torch.tensor(4.0)\n",
    "dataset_size = 100\n",
    "\n",
    "x_neg, x_pos = torch.zeros(dataset_size // 2), torch.zeros(dataset_size // 2)\n",
    "x_neg, x_pos = x_neg.uniform_(-4, -2), x_pos.uniform_(2, 4)\n",
    "x = torch.cat((x_neg, x_pos))\n",
    "\n",
    "y = x**3 + noise_std * torch.normal(\n",
    "    torch.zeros(dataset_size), torch.ones(dataset_size)\n",
    ")\n",
    "\n",
    "x = (x - x.mean()) / x.std()\n",
    "y = (y - y.mean()) / y.std()\n",
    "\n",
    "plt.scatter(x, y, marker=\"x\")\n",
    "plt.title(\"Toy Dataset\")\n",
    "plt.xlabel(\"Input Variable\")\n",
    "plt.ylabel(\"Output Variable\")\n",
    "plt.xlim(-2, 2)\n",
    "plt.ylim(-3, 3)\n",
    "plt.show()"
   ]
  },
  {
   "cell_type": "code",
   "execution_count": null,
   "metadata": {},
   "outputs": [],
   "source": [
    "amort_model = amort_bnn.AmortNetwork(\n",
    "    1,\n",
    "    [50, 50],\n",
    "    1,\n",
    "    infer_last_pseudos=False,\n",
    ")\n",
    "print(amort_model)\n",
    "\n",
    "opt = torch.optim.Adam(amort_model.parameters(), lr=1e-2)"
   ]
  },
  {
   "cell_type": "code",
   "execution_count": null,
   "metadata": {},
   "outputs": [],
   "source": [
    "loss_evo = []\n",
    "ll_evo = []\n",
    "kl_evo = []\n",
    "\n",
    "epoch_iter = tqdm.tqdm(range(1000), \"Epoch\")\n",
    "for epoch in epoch_iter:\n",
    "    opt.zero_grad()\n",
    "\n",
    "    loss, ll, kl, noise = amort_model.elbo_loss(\n",
    "        x.unsqueeze(1), y.unsqueeze(1), num_samples=1\n",
    "    )\n",
    "    loss_evo.append(loss.item())\n",
    "    ll_evo.append(ll.item())\n",
    "    kl_evo.append(kl.item())\n",
    "\n",
    "    loss.backward()\n",
    "    opt.step()\n",
    "\n",
    "    epoch_iter.set_postfix({\"loss\": loss, \"ll\": ll, \"kl\": kl})"
   ]
  },
  {
   "cell_type": "code",
   "execution_count": null,
   "metadata": {},
   "outputs": [],
   "source": [
    "plt.plot(loss_evo)\n",
    "plt.ylabel(\"ELBO loss\")\n",
    "plt.xlabel(\"epoch\")\n",
    "plt.title(\"Loss Evolution\")\n",
    "plt.show()\n",
    "\n",
    "plt.plot(ll_evo)\n",
    "plt.ylabel(\"expected log likelihood\")\n",
    "plt.xlabel(\"epoch\")\n",
    "plt.title(\"Expected Log Likelihood Evolution\")\n",
    "plt.show()\n",
    "\n",
    "plt.plot(kl_evo)\n",
    "plt.ylabel(\"kl\")\n",
    "plt.xlabel(\"epoch\")\n",
    "plt.title(\"KL Evolution\")\n",
    "plt.show()"
   ]
  },
  {
   "cell_type": "code",
   "execution_count": null,
   "metadata": {},
   "outputs": [],
   "source": [
    "xs = torch.linspace(-2.5, 2.5, 100).unsqueeze(1)\n",
    "prediction_samps = (\n",
    "    amort_model(x.unsqueeze(1), y.unsqueeze(1), x_test=xs, num_samples=100)[1]\n",
    "    .squeeze(-1)\n",
    "    .T\n",
    ")\n",
    "predict_mean = prediction_samps.mean(1)\n",
    "ip, op = amort_model.get_pseud_outs(x.unsqueeze(1), y.unsqueeze(1))"
   ]
  },
  {
   "cell_type": "code",
   "execution_count": null,
   "metadata": {},
   "outputs": [],
   "source": [
    "plt.figure(figsize=(12, 8.5))\n",
    "plt.plot(\n",
    "    xs,\n",
    "    prediction_samps.detach().numpy()[:, :-1],\n",
    "    color=\"blue\",\n",
    "    linewidth=0.5,\n",
    "    alpha=0.15,\n",
    ")\n",
    "plt.plot(\n",
    "    xs,\n",
    "    prediction_samps.detach().numpy()[:, -1],\n",
    "    color=\"blue\",\n",
    "    linewidth=0.5,\n",
    "    alpha=0.15,\n",
    "    label=\"Predictive Sample\",\n",
    ")\n",
    "plt.title(\"Model Prediction Samples\")\n",
    "plt.xlabel(\"Input Variable\")\n",
    "plt.ylabel(\"Output Variable\")\n",
    "plt.scatter(x, y, marker=\"x\", label=\"Training Data\", color=\"red\", linewidth=0.5)\n",
    "# plt.plot(xs, predict_mean.detach().numpy(), color='blue')\n",
    "\n",
    "infer_last = amort_model.network[-1].infer_last_pseudos\n",
    "if infer_last:\n",
    "    plt.scatter(\n",
    "        ip,\n",
    "        op,\n",
    "        marker=\"+\",\n",
    "        label=\"Final Layer Inferred Pseudo Observations\",\n",
    "        color=\"black\",\n",
    "        linewidth=1.0,\n",
    "    )\n",
    "\n",
    "plt.legend()\n",
    "plt.xlim(-2.5, 2.5)\n",
    "plt.ylim(-3.5, 3.5)\n",
    "plt.show()"
   ]
  }
 ],
 "metadata": {
  "kernelspec": {
   "display_name": "Python 3",
   "language": "python",
   "name": "python3"
  },
  "language_info": {
   "codemirror_mode": {
    "name": "ipython",
    "version": 3
   },
   "file_extension": ".py",
   "mimetype": "text/x-python",
   "name": "python",
   "nbconvert_exporter": "python",
   "pygments_lexer": "ipython3",
   "version": "3.8.10"
  },
  "vscode": {
   "interpreter": {
    "hash": "ab87876de487af160f20235e2a1af3a273459c9a624d26036771363d3e1235fa"
   }
  }
 },
 "nbformat": 4,
 "nbformat_minor": 4
}
