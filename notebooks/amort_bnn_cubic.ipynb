{
 "cells": [
  {
   "cell_type": "code",
   "execution_count": null,
   "metadata": {},
   "outputs": [],
   "source": [
    "%load_ext autoreload\n",
    "%autoreload 2"
   ]
  },
  {
   "cell_type": "code",
   "execution_count": null,
   "metadata": {},
   "outputs": [],
   "source": [
    "import torch\n",
    "import matplotlib.pyplot as plt\n",
    "import tqdm.auto as tqdm\n",
    "\n",
    "torch.set_default_dtype(torch.float64)\n",
    "\n",
    "import sys\n",
    "\n",
    "sys.path.append(\"../\")\n",
    "from bnn_amort_inf.models.bnn import gibnn\n",
    "from bnn_amort_inf import utils"
   ]
  },
  {
   "cell_type": "markdown",
   "metadata": {},
   "source": [
    "# Dataset here"
   ]
  },
  {
   "cell_type": "code",
   "execution_count": null,
   "metadata": {},
   "outputs": [],
   "source": [
    "noise_std = torch.tensor(4.0)\n",
    "dataset_size = 100\n",
    "\n",
    "x_neg, x_pos = torch.zeros(dataset_size // 2), torch.zeros(dataset_size // 2)\n",
    "x_neg, x_pos = x_neg.uniform_(-4, -2), x_pos.uniform_(2, 4)\n",
    "x = torch.cat((x_neg, x_pos))\n",
    "\n",
    "y = x**3 + noise_std * torch.normal(\n",
    "    torch.zeros(dataset_size), torch.ones(dataset_size)\n",
    ")\n",
    "\n",
    "x = (x - x.mean()) / x.std()\n",
    "y = (y - y.mean()) / y.std()\n",
    "\n",
    "plt.scatter(x, y, marker=\"x\")\n",
    "plt.title(\"Toy Dataset\")\n",
    "plt.xlabel(\"Input Variable\")\n",
    "plt.ylabel(\"Output Variable\")\n",
    "plt.xlim(-2, 2)\n",
    "plt.ylim(-3, 3)\n",
    "plt.show()\n",
    "\n",
    "dataset = torch.utils.data.TensorDataset(x.unsqueeze(-1), y.unsqueeze(-1))"
   ]
  },
  {
   "cell_type": "code",
   "execution_count": null,
   "metadata": {},
   "outputs": [],
   "source": [
    "amort_model = gibnn.AmortisedGIBNN(1, 1, [20, 20], [20, 20], train_noise=True)\n",
    "print(amort_model)\n",
    "\n",
    "opt = torch.optim.Adam(amort_model.parameters(), lr=1e-2)"
   ]
  },
  {
   "cell_type": "code",
   "execution_count": null,
   "metadata": {},
   "outputs": [],
   "source": [
    "abnn_tracker = utils.training_utils.train_model(\n",
    "    amort_model,\n",
    "    dataset,\n",
    "    batch_size=128,\n",
    "    lr=1e-2,\n",
    ")"
   ]
  },
  {
   "cell_type": "code",
   "execution_count": null,
   "metadata": {},
   "outputs": [],
   "source": [
    "fig, axes = plt.subplots(\n",
    "    len(abnn_tracker.keys()),\n",
    "    1,\n",
    "    figsize=(8, len(abnn_tracker.keys()) * 4),\n",
    "    dpi=100,\n",
    "    sharex=True,\n",
    ")\n",
    "\n",
    "for ax, (key, vals) in zip(axes, abnn_tracker.items()):\n",
    "    ax.plot(vals)\n",
    "    ax.set_ylabel(key)\n",
    "    ax.grid()\n",
    "\n",
    "plt.show()"
   ]
  },
  {
   "cell_type": "code",
   "execution_count": null,
   "metadata": {},
   "outputs": [],
   "source": [
    "xs = torch.linspace(-2.5, 2.5, 100).unsqueeze(1)\n",
    "prediction_samps = (\n",
    "    amort_model(x.unsqueeze(1), y.unsqueeze(1), x_test=xs, num_samples=100)[-1]\n",
    "    .squeeze()\n",
    "    .T\n",
    ")"
   ]
  },
  {
   "cell_type": "code",
   "execution_count": null,
   "metadata": {},
   "outputs": [],
   "source": [
    "plt.figure(figsize=(10, 7))\n",
    "plt.plot(\n",
    "    xs,\n",
    "    prediction_samps.detach().numpy()[:, :-1],\n",
    "    color=\"blue\",\n",
    "    linewidth=0.5,\n",
    "    alpha=0.15,\n",
    ")\n",
    "plt.plot(\n",
    "    xs,\n",
    "    prediction_samps.detach().numpy()[:, -1],\n",
    "    color=\"blue\",\n",
    "    linewidth=0.5,\n",
    "    alpha=0.15,\n",
    "    label=\"Predictive Sample\",\n",
    ")\n",
    "plt.title(\"Model Prediction Samples\")\n",
    "plt.xlabel(\"Input Variable\")\n",
    "plt.ylabel(\"Output Variable\")\n",
    "plt.scatter(x, y, marker=\"x\", label=\"Training Data\", color=\"red\", linewidth=0.5)\n",
    "\n",
    "plt.legend()\n",
    "plt.xlim(-2.5, 2.5)\n",
    "plt.ylim(-3.5, 3.5)\n",
    "plt.show()"
   ]
  }
 ],
 "metadata": {
  "kernelspec": {
   "display_name": "Python 3.9.13 ('bnn-amort-inf-env')",
   "language": "python",
   "name": "python3"
  },
  "language_info": {
   "codemirror_mode": {
    "name": "ipython",
    "version": 3
   },
   "file_extension": ".py",
   "mimetype": "text/x-python",
   "name": "python",
   "nbconvert_exporter": "python",
   "pygments_lexer": "ipython3",
   "version": "3.9.13"
  },
  "vscode": {
   "interpreter": {
    "hash": "35fb1e0ce207c8143d1ac09f84e572577d5a384bc00c7057b27c48465068398e"
   }
  }
 },
 "nbformat": 4,
 "nbformat_minor": 4
}
