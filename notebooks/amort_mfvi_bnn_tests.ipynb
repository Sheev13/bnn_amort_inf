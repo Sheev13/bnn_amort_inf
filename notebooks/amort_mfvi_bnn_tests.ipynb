{
 "cells": [
  {
   "cell_type": "code",
   "execution_count": null,
   "metadata": {},
   "outputs": [],
   "source": [
    "%load_ext autoreload\n",
    "%autoreload 2"
   ]
  },
  {
   "cell_type": "code",
   "execution_count": null,
   "metadata": {},
   "outputs": [],
   "source": [
    "import sys\n",
    "\n",
    "from collections import defaultdict\n",
    "\n",
    "import torch\n",
    "import matplotlib.pyplot as plt\n",
    "import numpy as np\n",
    "\n",
    "from tqdm.auto import tqdm\n",
    "\n",
    "sys.path.append(\"../\")\n",
    "from bnn_amort_inf.models.bnn import mfvi_bnn\n",
    "from bnn_amort_inf import utils"
   ]
  },
  {
   "cell_type": "markdown",
   "metadata": {},
   "source": [
    "# Generate GP datasets for training."
   ]
  },
  {
   "cell_type": "code",
   "execution_count": null,
   "metadata": {},
   "outputs": [],
   "source": [
    "num_datasets = 1000\n",
    "train_datasets = []\n",
    "\n",
    "for _ in range(num_datasets):\n",
    "    train_datasets.append(utils.gp_datasets.gp_dataset_generator(min_n=10, max_n=20))\n",
    "\n",
    "meta_dataset = utils.dataset_utils.MetaDataset(train_datasets)"
   ]
  },
  {
   "cell_type": "markdown",
   "metadata": {},
   "source": [
    "# Define and train model"
   ]
  },
  {
   "cell_type": "code",
   "execution_count": null,
   "metadata": {},
   "outputs": [],
   "source": [
    "amortised_mfvibnn = mfvi_bnn.AmortisedMFVIBNN(\n",
    "    x_dim=1,\n",
    "    y_dim=1,\n",
    "    hidden_dims=[20, 20],\n",
    "    in_hidden_dims=[20, 20],\n",
    "    noise=1e-2,\n",
    "    train_noise=True,\n",
    ")\n",
    "\n",
    "agibnn_tracker = utils.training_utils.train_metamodel(\n",
    "    amortised_mfvibnn,\n",
    "    meta_dataset,\n",
    "    lr=1e-3,\n",
    "    num_samples=1,\n",
    "    min_es_iters=3_000,\n",
    "    es_thresh=1e-3,\n",
    "    smooth_es_iters=200,\n",
    "    batch_size=10,\n",
    ")"
   ]
  },
  {
   "cell_type": "markdown",
   "metadata": {},
   "source": [
    "# Plot metrics during training"
   ]
  },
  {
   "cell_type": "code",
   "execution_count": null,
   "metadata": {},
   "outputs": [],
   "source": [
    "fig, axes = plt.subplots(\n",
    "    len(agibnn_tracker.keys()),\n",
    "    1,\n",
    "    figsize=(8, len(agibnn_tracker.keys()) * 4),\n",
    "    dpi=100,\n",
    "    sharex=True,\n",
    ")\n",
    "\n",
    "for ax, (key, vals) in zip(axes, agibnn_tracker.items()):\n",
    "    ax.plot(vals)\n",
    "    ax.set_ylabel(key)\n",
    "    ax.grid()\n",
    "\n",
    "plt.show()"
   ]
  },
  {
   "cell_type": "markdown",
   "metadata": {},
   "source": [
    "# Generate test datasets"
   ]
  },
  {
   "cell_type": "code",
   "execution_count": null,
   "metadata": {},
   "outputs": [],
   "source": [
    "num_test_datasets = 5\n",
    "test_datasets = []\n",
    "for _ in range(num_test_datasets):\n",
    "    test_datasets.append(utils.gp_datasets.gp_dataset_generator(min_n=5, max_n=10))\n",
    "\n",
    "xs = torch.linspace(-4, 4, 200).unsqueeze(-1)"
   ]
  },
  {
   "cell_type": "markdown",
   "metadata": {},
   "source": [
    "# Predictions"
   ]
  },
  {
   "cell_type": "markdown",
   "metadata": {},
   "source": [
    "### Training data"
   ]
  },
  {
   "cell_type": "code",
   "execution_count": null,
   "metadata": {},
   "outputs": [],
   "source": [
    "num_plots = min(len(train_datasets), 4)  # limit to 4 plots\n",
    "fig, axes = plt.subplots(num_plots, 1, figsize=(8, 4 * num_plots), sharex=True)\n",
    "\n",
    "for ax, (x, y) in zip(axes, train_datasets[:num_plots]):\n",
    "\n",
    "    ys_preds = amortised_mfvibnn(x, y, x_test=xs, num_samples=100)[-1]\n",
    "    for ys_pred in ys_preds[:-1]:\n",
    "        ax.plot(xs, ys_pred.detach().numpy(), color=\"C0\", alpha=0.1, zorder=0)\n",
    "    ax.plot(\n",
    "        xs,\n",
    "        ys_preds[-1].detach().numpy(),\n",
    "        color=\"C0\",\n",
    "        alpha=0.1,\n",
    "        zorder=0,\n",
    "        label=\"Prediction samples\",\n",
    "    )\n",
    "\n",
    "    ax.plot(\n",
    "        xs,\n",
    "        ys_preds.detach().mean(0).numpy(),\n",
    "        color=\"C0\",\n",
    "        alpha=1.0,\n",
    "        ls=\"--\",\n",
    "        zorder=0,\n",
    "        label=\"Mean prediction\",\n",
    "    )\n",
    "\n",
    "    ax.scatter(x, y, color=\"C1\", marker=\"x\", label=\"Datapoints\", zorder=1)\n",
    "\n",
    "    ax.grid()\n",
    "    ax.legend()\n",
    "    ax.set_xlim([-4.0, 4.0])\n",
    "    ax.set_ylim([-5.0, 5.0])\n",
    "\n",
    "plt.show()"
   ]
  },
  {
   "cell_type": "markdown",
   "metadata": {},
   "source": [
    "### Test datasets"
   ]
  },
  {
   "cell_type": "code",
   "execution_count": null,
   "metadata": {},
   "outputs": [],
   "source": [
    "fig, axes = plt.subplots(\n",
    "    len(test_datasets), 1, figsize=(8, 4 * len(test_datasets)), sharex=True\n",
    ")\n",
    "\n",
    "for ax, (x, y) in zip(axes, test_datasets):\n",
    "\n",
    "    ys_preds = amortised_mfvibnn(x, y, x_test=xs, num_samples=100)[-1]\n",
    "    for ys_pred in ys_preds[:-1]:\n",
    "        ax.plot(xs, ys_pred.detach().numpy(), color=\"C0\", alpha=0.1, zorder=0)\n",
    "    ax.plot(\n",
    "        xs,\n",
    "        ys_preds[-1].detach().numpy(),\n",
    "        color=\"C0\",\n",
    "        alpha=0.1,\n",
    "        zorder=0,\n",
    "        label=\"Prediction samples\",\n",
    "    )\n",
    "\n",
    "    ax.plot(\n",
    "        xs,\n",
    "        ys_preds.detach().mean(0).numpy(),\n",
    "        color=\"C0\",\n",
    "        alpha=1.0,\n",
    "        ls=\"--\",\n",
    "        zorder=0,\n",
    "        label=\"Mean prediction\",\n",
    "    )\n",
    "\n",
    "    ax.scatter(x, y, color=\"C1\", label=\"Datapoints\", zorder=1)\n",
    "\n",
    "    ax.grid()\n",
    "    ax.legend()\n",
    "    ax.set_xlim([-4.0, 4.0])\n",
    "    ax.set_ylim([-5.0, 5.0])\n",
    "\n",
    "plt.show()"
   ]
  },
  {
   "cell_type": "code",
   "execution_count": null,
   "metadata": {},
   "outputs": [],
   "source": []
  }
 ],
 "metadata": {
  "kernelspec": {
   "display_name": "Python 3 (ipykernel)",
   "language": "python",
   "name": "python3"
  },
  "language_info": {
   "codemirror_mode": {
    "name": "ipython",
    "version": 3
   },
   "file_extension": ".py",
   "mimetype": "text/x-python",
   "name": "python",
   "nbconvert_exporter": "python",
   "pygments_lexer": "ipython3",
   "version": "3.9.13"
  },
  "vscode": {
   "interpreter": {
    "hash": "35fb1e0ce207c8143d1ac09f84e572577d5a384bc00c7057b27c48465068398e"
   }
  }
 },
 "nbformat": 4,
 "nbformat_minor": 4
}
