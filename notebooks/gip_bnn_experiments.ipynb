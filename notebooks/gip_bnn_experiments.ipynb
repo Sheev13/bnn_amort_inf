{
 "cells": [
  {
   "cell_type": "code",
   "execution_count": null,
   "metadata": {},
   "outputs": [],
   "source": [
    "%load_ext autoreload\n",
    "%autoreload 2"
   ]
  },
  {
   "cell_type": "code",
   "execution_count": null,
   "metadata": {},
   "outputs": [],
   "source": [
    "import torch\n",
    "import matplotlib.pyplot as plt\n",
    "import sys\n",
    "import tqdm.auto as tqdm\n",
    "\n",
    "torch.set_default_dtype(torch.float64)\n",
    "\n",
    "sys.path.append(\"../\")\n",
    "from bnn_amort_inf.models.bnn import gibnn\n",
    "from bnn_amort_inf import utils\n",
    "from bnn_amort_inf.models.likelihoods.normal import NormalLikelihood"
   ]
  },
  {
   "cell_type": "markdown",
   "metadata": {},
   "source": [
    "### Dataset stuff here:"
   ]
  },
  {
   "cell_type": "code",
   "execution_count": null,
   "metadata": {},
   "outputs": [],
   "source": [
    "noise_std = torch.tensor(4.0)\n",
    "n = 100\n",
    "\n",
    "x_neg = torch.rand(n // 2, 1) * (-2) - 2\n",
    "x_pos = torch.rand(n // 2, 1) * (-2) + 4\n",
    "\n",
    "x = torch.cat((x_neg, x_pos), dim=0)\n",
    "y = x**3 + noise_std * torch.randn_like(x)\n",
    "\n",
    "x = (x - x.mean()) / x.std()\n",
    "y = (y - y.mean()) / y.std()\n",
    "\n",
    "dataset = torch.utils.data.TensorDataset(x, y)"
   ]
  },
  {
   "cell_type": "code",
   "execution_count": null,
   "metadata": {},
   "outputs": [],
   "source": [
    "fig = plt.figure(figsize=(8, 6), dpi=100)\n",
    "\n",
    "plt.scatter(x, y, marker=\"x\")\n",
    "\n",
    "plt.title(\"Toy Dataset\")\n",
    "plt.xlabel(\"Input Variable\")\n",
    "plt.ylabel(\"Output Variable\")\n",
    "plt.xlim(-2, 2)\n",
    "plt.ylim(-3, 3)\n",
    "plt.grid()\n",
    "\n",
    "plt.show()"
   ]
  },
  {
   "cell_type": "markdown",
   "metadata": {},
   "source": [
    "### Do some experiments"
   ]
  },
  {
   "cell_type": "code",
   "execution_count": null,
   "metadata": {},
   "outputs": [],
   "source": [
    "num_inducing = 30\n",
    "rand_perm = torch.randperm(n)[:num_inducing]\n",
    "inducing_points = x[rand_perm]\n",
    "\n",
    "gibnn_model = gibnn.GIBNN(\n",
    "    x_dim=1,\n",
    "    y_dim=1,\n",
    "    hidden_dims=[20, 20],\n",
    "    num_inducing=num_inducing,\n",
    "    inducing_points=inducing_points,\n",
    "    likelihood=NormalLikelihood(noise=1.0, train_noise=True),\n",
    "    learn_final_layer_mu=True,\n",
    "    learn_final_layer_prec=True,\n",
    ")"
   ]
  },
  {
   "cell_type": "code",
   "execution_count": null,
   "metadata": {},
   "outputs": [],
   "source": [
    "gibnn_tracker = utils.training_utils.train_model(\n",
    "    gibnn_model,\n",
    "    dataset,\n",
    "    batch_size=128,\n",
    "    num_samples=5,\n",
    "    lr=1e-2,\n",
    "    min_es_iters=1_000,\n",
    "    ref_es_iters=300,\n",
    "    smooth_es_iters=100,\n",
    ")"
   ]
  },
  {
   "cell_type": "code",
   "execution_count": null,
   "metadata": {},
   "outputs": [],
   "source": [
    "fig, axes = plt.subplots(\n",
    "    len(gibnn_tracker.keys()),\n",
    "    1,\n",
    "    figsize=(8, len(gibnn_tracker.keys()) * 4),\n",
    "    dpi=100,\n",
    "    sharex=True,\n",
    ")\n",
    "\n",
    "for ax, (key, vals) in zip(axes, gibnn_tracker.items()):\n",
    "    ax.plot(vals)\n",
    "    ax.set_ylabel(key)\n",
    "    ax.grid()\n",
    "\n",
    "plt.show()"
   ]
  },
  {
   "cell_type": "code",
   "execution_count": null,
   "metadata": {},
   "outputs": [],
   "source": [
    "xs = torch.linspace(-2.5, 2.5, 100).unsqueeze(1)\n",
    "ys_preds = gibnn_model(xs, num_samples=100)[0].detach().numpy().squeeze(-1)\n",
    "ys_pred_mean = ys_preds.mean(0)\n",
    "ys_preds_std = ys_preds.std(0)"
   ]
  },
  {
   "cell_type": "code",
   "execution_count": null,
   "metadata": {},
   "outputs": [],
   "source": [
    "plot_distribution = True\n",
    "\n",
    "plt.figure(figsize=(10, 4), dpi=100)\n",
    "\n",
    "if plot_distribution:\n",
    "    plt.plot(\n",
    "        xs.numpy(),\n",
    "        ys_pred_mean,\n",
    "        color=\"C0\",\n",
    "        # linewidth=1.0,\n",
    "        label=\"Predictive mean\",\n",
    "    )\n",
    "\n",
    "    plt.fill_between(\n",
    "        xs.squeeze().numpy(),\n",
    "        ys_pred_mean + 1.96 * ys_preds_std,\n",
    "        ys_pred_mean - 1.96 * ys_preds_std,\n",
    "        color=\"C0\",\n",
    "        alpha=0.3,\n",
    "        label=\"95% Confidence\",\n",
    "    )\n",
    "\n",
    "else:\n",
    "\n",
    "    for ys_pred in ys_preds[:-1]:\n",
    "        plt.plot(\n",
    "            xs.detach().numpy(),\n",
    "            ys_pred,\n",
    "            color=\"C0\",\n",
    "            linewidth=1.0,\n",
    "            alpha=0.1,\n",
    "        )\n",
    "\n",
    "    plt.plot(\n",
    "        xs.numpy(),\n",
    "        ys_preds[-1],\n",
    "        color=\"C0\",\n",
    "        linewidth=1.0,\n",
    "        alpha=0.1,\n",
    "        label=\"Predictive samples\",\n",
    "    )\n",
    "\n",
    "# plt.title(\"Model Prediction Samples\")\n",
    "plt.scatter(x, y, marker=\"2\", label=\"Training Data\", color=\"red\", linewidth=1.0)\n",
    "plt.legend(fontsize=15)\n",
    "plt.xlim(-2.5, 2.5)\n",
    "plt.ylim(-3.5, 3.5)\n",
    "plt.grid()\n",
    "plt.xticks(fontsize=15)\n",
    "plt.yticks(fontsize=15)\n",
    "plt.show()"
   ]
  }
 ],
 "metadata": {
  "kernelspec": {
   "display_name": "Python 3 (ipykernel)",
   "language": "python",
   "name": "python3"
  },
  "language_info": {
   "codemirror_mode": {
    "name": "ipython",
    "version": 3
   },
   "file_extension": ".py",
   "mimetype": "text/x-python",
   "name": "python",
   "nbconvert_exporter": "python",
   "pygments_lexer": "ipython3",
   "version": "3.9.13"
  },
  "vscode": {
   "interpreter": {
    "hash": "35fb1e0ce207c8143d1ac09f84e572577d5a384bc00c7057b27c48465068398e"
   }
  }
 },
 "nbformat": 4,
 "nbformat_minor": 4
}
