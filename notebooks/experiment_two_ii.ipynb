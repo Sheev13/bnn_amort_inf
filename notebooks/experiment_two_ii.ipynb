{
 "cells": [
  {
   "attachments": {},
   "cell_type": "markdown",
   "metadata": {},
   "source": [
    "# Experiment 2.ii\n",
    "### In this experiment we compare different metamodels on an image completion task framed as a 2D regression task \n",
    "We compare the amortised GI BNN with a convolutional conditional neural process. The models will be evaluated on datasets which will be treated as metadatasets in which each image will be subsampled and treated as a 2D regression dataset. In this sub-experiment, we evalute the models on the CelebA dataset.\n"
   ]
  },
  {
   "cell_type": "code",
   "execution_count": null,
   "metadata": {},
   "outputs": [],
   "source": [
    "%load_ext autoreload\n",
    "%autoreload 2"
   ]
  },
  {
   "cell_type": "code",
   "execution_count": null,
   "metadata": {},
   "outputs": [],
   "source": [
    "import torch\n",
    "import torchvision\n",
    "import torchvision.datasets as datasets\n",
    "import matplotlib.pyplot as plt\n",
    "import wbml.experiment\n",
    "import wbml.plot\n",
    "from tqdm import tqdm\n",
    "import sys\n",
    "\n",
    "torch.set_default_dtype(torch.float64)\n",
    "\n",
    "sys.path.append(\"../\")\n",
    "import bnn_amort_inf\n",
    "from bnn_amort_inf.models.likelihoods.normal import (\n",
    "    NormalLikelihood,\n",
    "    BernoulliLikelihood,\n",
    ")\n",
    "from bnn_amort_inf.models.bnn import gibnn, mfvi_bnn\n",
    "from bnn_amort_inf.models.np import GridConvCNP, CNP\n",
    "from bnn_amort_inf import utils\n",
    "\n",
    "torch.set_default_dtype(torch.float64)"
   ]
  },
  {
   "cell_type": "code",
   "execution_count": null,
   "metadata": {},
   "outputs": [],
   "source": [
    "wd = wbml.experiment.WorkingDirectory(\"./experiment_two_ii\", log=None, override=False)"
   ]
  },
  {
   "cell_type": "code",
   "execution_count": null,
   "metadata": {},
   "outputs": [],
   "source": [
    "num_datasets = 1000  # note cannot be greater than 202,599\n",
    "meta_datasets = {}\n",
    "ratio = 0.2  # proportion of context pixels in training images\n",
    "\n",
    "celeba = datasets.CelebA(\n",
    "    root=wd.root,\n",
    "    split=\"all\",\n",
    "    download=True,\n",
    "    transform=torchvision.transforms.ToTensor(),\n",
    ")\n",
    "celeba_iter = iter(torch.utils.data.DataLoader(celeba, shuffle=True))\n",
    "img_samp = next(celeba_iter)[0]\n",
    "\n",
    "I, M_c = (\n",
    "    next(celeba_iter)[0].squeeze(0),\n",
    "    utils.dataset_utils.random_mask(ratio, img_samp)[1],\n",
    ")\n",
    "\n",
    "m_d = []\n",
    "for _ in tqdm(range(num_datasets)):\n",
    "    img = next(celeba_iter)[0].squeeze(0)\n",
    "    mask = utils.dataset_utils.random_mask(ratio, img_samp)[1]\n",
    "    x_c, y_c, x_t, y_t = utils.dataset_utils.img_for_reg(img, mask)\n",
    "    m_d.append((img, mask, x_c, y_c, x_t, y_t))\n",
    "\n",
    "meta_datasets[\"celeba\"] = utils.dataset_utils.MetaDataset(m_d)"
   ]
  },
  {
   "cell_type": "code",
   "execution_count": null,
   "metadata": {},
   "outputs": [],
   "source": [
    "len(meta_datasets[\"celeba\"].datasets)"
   ]
  },
  {
   "attachments": {},
   "cell_type": "markdown",
   "metadata": {},
   "source": [
    "### Define and Train Models"
   ]
  },
  {
   "cell_type": "code",
   "execution_count": null,
   "metadata": {},
   "outputs": [],
   "source": [
    "plot_training_metrics = True"
   ]
  },
  {
   "cell_type": "code",
   "execution_count": null,
   "metadata": {},
   "outputs": [],
   "source": [
    "convcnp = GridConvCNP(\n",
    "    x_dim=2,\n",
    "    y_dim=3,\n",
    "    embedded_dim=128,\n",
    "    cnn_chans=[64, 64],\n",
    "    conv_kernel_size=13,\n",
    "    cnn_kernel_size=9,\n",
    "    res=True,\n",
    ")\n",
    "\n",
    "convcnp_tracker = utils.training_utils.train_metamodel(\n",
    "    convcnp,\n",
    "    meta_datasets[\"celeba\"],\n",
    "    image=True,\n",
    "    gridconv=True,\n",
    "    lr=1e-4,\n",
    "    max_iters=5_000,\n",
    "    batch_size=1,\n",
    "    min_es_iters=150,\n",
    "    ref_es_iters=50,\n",
    "    smooth_es_iters=50,\n",
    "    es=True,\n",
    "    # man_thresh=(\n",
    "    #     \"ll\",\n",
    "    #     2000.0,\n",
    "    # ),  # manual threshold that only stops training loop if ll>man_thresh... very hacky but fine for now\n",
    ")\n",
    "\n",
    "if plot_training_metrics:\n",
    "    fig, axes = plt.subplots(\n",
    "        len(convcnp_tracker.keys()),\n",
    "        1,\n",
    "        figsize=(8, len(convcnp_tracker.keys()) * 4),\n",
    "        dpi=100,\n",
    "        sharex=True,\n",
    "    )\n",
    "\n",
    "    for ax, (key, vals) in zip(axes, convcnp_tracker.items()):\n",
    "        ax.plot(vals)\n",
    "        ax.set_ylabel(key)\n",
    "        ax.grid()\n",
    "\n",
    "    plt.show()"
   ]
  },
  {
   "cell_type": "code",
   "execution_count": null,
   "metadata": {},
   "outputs": [],
   "source": [
    "agibnn = gibnn.AmortisedGIBNN(\n",
    "    x_dim=2,\n",
    "    y_dim=3,\n",
    "    hidden_dims=[50, 50],\n",
    "    in_hidden_dims=[100, 100],\n",
    "    likelihood=NormalLikelihood(noise=0.01, train_noise=False),\n",
    ")\n",
    "\n",
    "agibnn_tracker = utils.training_utils.train_metamodel(\n",
    "    agibnn,\n",
    "    meta_datasets[\"celeba\"],\n",
    "    image=True,\n",
    "    np_loss=True,\n",
    "    np_kl=False,\n",
    "    lr=5e-3,\n",
    "    max_iters=5_000,\n",
    "    batch_size=1,\n",
    "    min_es_iters=150,\n",
    "    ref_es_iters=50,\n",
    "    smooth_es_iters=50,\n",
    "    es=True,\n",
    "    # man_thresh=(\"elbo\", -2.0e10),\n",
    ")\n",
    "\n",
    "if plot_training_metrics:\n",
    "    fig, axes = plt.subplots(\n",
    "        len(agibnn_tracker.keys()),\n",
    "        1,\n",
    "        figsize=(8, len(agibnn_tracker.keys()) * 4),\n",
    "        dpi=100,\n",
    "        sharex=True,\n",
    "    )\n",
    "\n",
    "    for ax, (key, vals) in zip(axes, agibnn_tracker.items()):\n",
    "        ax.plot(vals)\n",
    "        ax.set_ylabel(key)\n",
    "        ax.grid()\n",
    "\n",
    "    plt.show()"
   ]
  },
  {
   "attachments": {},
   "cell_type": "markdown",
   "metadata": {},
   "source": [
    "### Generate Test Datasets"
   ]
  },
  {
   "cell_type": "code",
   "execution_count": null,
   "metadata": {},
   "outputs": [],
   "source": [
    "num_test = 4\n",
    "num_models = 2\n",
    "test_datasets = []\n",
    "for _ in range(num_test):\n",
    "    img = next(celeba_iter)[0].squeeze(0)\n",
    "    mask = utils.dataset_utils.random_mask(0.2, img_samp)[1]\n",
    "    x_c, y_c, x_t, y_t = utils.dataset_utils.img_for_reg(img, mask)\n",
    "    test_datasets.append((img, mask, x_c, y_c, x_t, y_t))"
   ]
  },
  {
   "cell_type": "code",
   "execution_count": null,
   "metadata": {},
   "outputs": [],
   "source": [
    "plot_std = True\n",
    "\n",
    "for dataset in test_datasets:\n",
    "    I, M_c, x_c, y_c, x_t, y_t = dataset\n",
    "    ctx_img = utils.dataset_utils.vis_ctxt_img(M_c, I)\n",
    "\n",
    "    convcnp_pred_dist = convcnp(\n",
    "        I,\n",
    "        M_c,\n",
    "    )\n",
    "    convcnp_pred_img = convcnp_pred_dist.loc.reshape((218, 178, 3)).detach()\n",
    "    convcnp_pred_std = convcnp_pred_dist.scale.reshape((218, 178, 3)).detach()\n",
    "\n",
    "    agibnn_pred_samps = agibnn(x_c, y_c, x_test=x_t, num_samples=3)[-1].detach()\n",
    "    pred_img = agibnn_pred_samps.mean(0).reshape((218, 178, 3))\n",
    "    pred_std = agibnn_pred_samps.std(0).reshape((218, 178, 3))\n",
    "\n",
    "    num_plots = 2 + num_models * (1 + int(plot_std))\n",
    "    fig, axes = plt.subplots(1, num_plots)\n",
    "    axes[0].imshow(I.permute(1, 2, 0))\n",
    "    axes[0].axis(False)\n",
    "    axes[1].imshow(ctx_img)\n",
    "    axes[1].axis(False)\n",
    "    axes[2].imshow(pred_img)\n",
    "    axes[2].axis(False)\n",
    "    axes[4].imshow(convcnp_pred_img)\n",
    "    axes[4].axis(False)\n",
    "    if plot_std:\n",
    "        axes[3].imshow(pred_std)\n",
    "        axes[3].axis(False)\n",
    "        axes[5].imshow(convcnp_pred_std)\n",
    "        axes[5].axis(False)\n",
    "\n",
    "    plt.show()"
   ]
  }
 ],
 "metadata": {
  "kernelspec": {
   "display_name": "bnn-amort-inf-env",
   "language": "python",
   "name": "python3"
  },
  "language_info": {
   "codemirror_mode": {
    "name": "ipython",
    "version": 3
   },
   "file_extension": ".py",
   "mimetype": "text/x-python",
   "name": "python",
   "nbconvert_exporter": "python",
   "pygments_lexer": "ipython3",
   "version": "3.9.13"
  }
 },
 "nbformat": 4,
 "nbformat_minor": 2
}
