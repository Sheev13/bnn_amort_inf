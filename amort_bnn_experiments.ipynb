{
 "cells": [
  {
   "cell_type": "code",
   "execution_count": 9,
   "metadata": {},
   "outputs": [
    {
     "name": "stdout",
     "output_type": "stream",
     "text": [
      "The autoreload extension is already loaded. To reload it, use:\n",
      "  %reload_ext autoreload\n"
     ]
    }
   ],
   "source": [
    "%load_ext autoreload\n",
    "%autoreload 2"
   ]
  },
  {
   "cell_type": "code",
   "execution_count": 10,
   "metadata": {},
   "outputs": [],
   "source": [
    "import torch\n",
    "import matplotlib.pyplot as plt\n",
    "import amort_bnn\n",
    "import tqdm.auto as tqdm\n",
    "\n",
    "torch.set_default_dtype(torch.float64)"
   ]
  },
  {
   "cell_type": "markdown",
   "metadata": {},
   "source": [
    "# Dataset here"
   ]
  },
  {
   "cell_type": "code",
   "execution_count": 11,
   "metadata": {},
   "outputs": [
    {
     "data": {
      "image/png": "[encoded data removed]",
      "text/plain": [
       "<Figure size 640x480 with 1 Axes>"
      ]
     },
     "metadata": {},
     "output_type": "display_data"
    }
   ],
   "source": [
    "noise_std = torch.tensor(4.0)\n",
    "dataset_size = 100\n",
    "\n",
    "x_neg, x_pos = torch.zeros(dataset_size // 2), torch.zeros(dataset_size // 2)\n",
    "x_neg, x_pos = x_neg.uniform_(-4, -2), x_pos.uniform_(2, 4)\n",
    "x = torch.cat((x_neg, x_pos))\n",
    "\n",
    "y = x**3 + noise_std * torch.normal(\n",
    "    torch.zeros(dataset_size), torch.ones(dataset_size)\n",
    ")\n",
    "\n",
    "x = (x - x.mean()) / x.std()\n",
    "y = (y - y.mean()) / y.std()\n",
    "\n",
    "plt.scatter(x, y, marker=\"x\")\n",
    "plt.title(\"Toy Dataset\")\n",
    "plt.xlabel(\"Input Variable\")\n",
    "plt.ylabel(\"Output Variable\")\n",
    "plt.xlim(-2, 2)\n",
    "plt.ylim(-3, 3)\n",
    "plt.show()\n"
   ]
  },
  {
   "cell_type": "code",
   "execution_count": 12,
   "metadata": {},
   "outputs": [
    {
     "name": "stdout",
     "output_type": "stream",
     "text": [
      "AmortNetwork(\n",
      "  (nonlinearity): ReLU()\n",
      "  (network): ModuleList(\n",
      "    (0): AmortLayer(\n",
      "      (activation): ReLU()\n",
      "      (inference_network): InferenceNetwork(\n",
      "        (activation): ReLU()\n",
      "        (network): ModuleList(\n",
      "          (0): Linear(in_features=2, out_features=100, bias=True)\n",
      "          (1): ReLU()\n",
      "          (2): Linear(in_features=100, out_features=100, bias=True)\n",
      "          (3): ReLU()\n",
      "          (4): Linear(in_features=100, out_features=100, bias=True)\n",
      "          (5): Identity()\n",
      "        )\n",
      "      )\n",
      "    )\n",
      "    (1): AmortLayer(\n",
      "      (activation): ReLU()\n",
      "      (inference_network): InferenceNetwork(\n",
      "        (activation): ReLU()\n",
      "        (network): ModuleList(\n",
      "          (0): Linear(in_features=2, out_features=100, bias=True)\n",
      "          (1): ReLU()\n",
      "          (2): Linear(in_features=100, out_features=100, bias=True)\n",
      "          (3): ReLU()\n",
      "          (4): Linear(in_features=100, out_features=100, bias=True)\n",
      "          (5): Identity()\n",
      "        )\n",
      "      )\n",
      "    )\n",
      "    (2): AmortLayer(\n",
      "      (activation): Identity()\n",
      "      (inference_network): InferenceNetwork(\n",
      "        (activation): ReLU()\n",
      "        (network): ModuleList(\n",
      "          (0): Linear(in_features=2, out_features=100, bias=True)\n",
      "          (1): ReLU()\n",
      "          (2): Linear(in_features=100, out_features=100, bias=True)\n",
      "          (3): ReLU()\n",
      "          (4): Linear(in_features=100, out_features=2, bias=True)\n",
      "          (5): Identity()\n",
      "        )\n",
      "      )\n",
      "    )\n",
      "  )\n",
      ")\n"
     ]
    }
   ],
   "source": [
    "amort_model = amort_bnn.AmortNetwork(\n",
    "    1,\n",
    "    [50, 50],\n",
    "    1,\n",
    "    x.unsqueeze(-1),\n",
    "    y.unsqueeze(-1),\n",
    ")\n",
    "print(amort_model)\n",
    "\n",
    "opt = torch.optim.Adam(amort_model.parameters(), lr=1e-2)"
   ]
  },
  {
   "cell_type": "code",
   "execution_count": null,
   "metadata": {},
   "outputs": [],
   "source": [
    "loss_evo = []\n",
    "ll_evo = []\n",
    "kl_evo = []\n",
    "\n",
    "epoch_iter = tqdm.tqdm(range(2000), \"Epoch\")\n",
    "for epoch in epoch_iter:  # epochs\n",
    "    opt.zero_grad()\n",
    "\n",
    "    loss, ll, kl, noise = amort_model.elbo_loss(\n",
    "        x.unsqueeze(1), y.unsqueeze(1), num_samples=1\n",
    "    )\n",
    "    loss_evo.append(loss.item())\n",
    "    ll_evo.append(ll.item())\n",
    "    kl_evo.append(kl.item())\n",
    "\n",
    "    loss.backward()\n",
    "    opt.step()\n",
    "    \n",
    "    epoch_iter.set_postfix({\"loss\": loss, \"ll\": ll, \"kl\": kl})"
   ]
  }
 ],
 "metadata": {
  "kernelspec": {
   "display_name": "Python 3.8.10 ('amort-inf-bnn-env')",
   "language": "python",
   "name": "python3"
  },
  "language_info": {
   "codemirror_mode": {
    "name": "ipython",
    "version": 3
   },
   "file_extension": ".py",
   "mimetype": "text/x-python",
   "name": "python",
   "nbconvert_exporter": "python",
   "pygments_lexer": "ipython3",
   "version": "3.8.10"
  },
  "orig_nbformat": 4,
  "vscode": {
   "interpreter": {
    "hash": "ab87876de487af160f20235e2a1af3a273459c9a624d26036771363d3e1235fa"
   }
  }
 },
 "nbformat": 4,
 "nbformat_minor": 2
}
