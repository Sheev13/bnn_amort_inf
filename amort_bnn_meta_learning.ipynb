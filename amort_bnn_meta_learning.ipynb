{
 "cells": [
  {
   "cell_type": "code",
   "execution_count": null,
   "metadata": {},
   "outputs": [],
   "source": [
    "%load_ext autoreload\n",
    "%autoreload 2"
   ]
  },
  {
   "cell_type": "code",
   "execution_count": null,
   "metadata": {},
   "outputs": [],
   "source": [
    "import torch\n",
    "import matplotlib.pyplot as plt\n",
    "import gpytorch\n",
    "import amort_bnn\n",
    "import gp_datasets\n",
    "import tqdm.auto as tqdm\n",
    "\n",
    "torch.set_default_dtype(torch.float64)"
   ]
  }
 ],
 "metadata": {
  "kernelspec": {
   "display_name": "Python 3.8.10 ('amort-inf-bnn-env')",
   "language": "python",
   "name": "python3"
  },
  "language_info": {
   "name": "python",
   "version": "3.8.10"
  },
  "orig_nbformat": 4,
  "vscode": {
   "interpreter": {
    "hash": "ab87876de487af160f20235e2a1af3a273459c9a624d26036771363d3e1235fa"
   }
  }
 },
 "nbformat": 4,
 "nbformat_minor": 2
}
